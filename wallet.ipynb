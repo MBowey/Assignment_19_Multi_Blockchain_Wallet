{
 "cells": [
  {
   "cell_type": "code",
   "execution_count": 48,
   "id": "f83cf18f-94ff-41ed-aaa9-249f05264a5b",
   "metadata": {},
   "outputs": [],
   "source": [
    "# Import dependencies\n",
    "import os\n",
    "import subprocess\n",
    "import json\n",
    "from dotenv import load_dotenv\n",
    "from pathlib import Path\n",
    "from pprint import pprint\n",
    "from constants import *\n",
    "\n",
    "\n",
    "# Load and set environment variables\n",
    "load_dotenv(\"/users/mbowey/desktop/wallet/mnemonic.env\")\n",
    "mnemonic = os.getenv(\"mnemonic\")\n"
   ]
  },
  {
   "cell_type": "code",
   "execution_count": 49,
   "id": "8ef6b16d-0141-41a4-801e-921314ee7a0d",
   "metadata": {},
   "outputs": [
    {
     "name": "stdout",
     "output_type": "stream",
     "text": [
      "{'btc-test': [{'address': 'mk7wetyE6WoEPZ8aJzGnSvFYFgF1dfDFEb',\n",
      "               'path': \"m/44'/1'/0'/0/0\",\n",
      "               'privkey': 'cNQxfgz4kL3JETUbBesezBGBhAqFWvuoXdVCCDVxrWfp9PQkXgrr',\n",
      "               'pubkey': '03805ad3da61ec4c99aee11346227ce6c4d598523e80135118edb60fba039b6016'},\n",
      "              {'address': 'mrmPdXNK8LtqQZuSSJruerk1JzEBUwbUwy',\n",
      "               'path': \"m/44'/1'/0'/0/1\",\n",
      "               'privkey': 'cUvJHHzNAg5RaRjvDdPoSQC9NowQ7srURAtukD91UKwPWnfrC9pJ',\n",
      "               'pubkey': '029f1758b099f3dfa336645518c6fd321b19c10dd2ee2133b262c5d7f62ac87f0c'},\n",
      "              {'address': 'msJnGyffQLxT5xCan9i7759ZQhswQSovQX',\n",
      "               'path': \"m/44'/1'/0'/0/2\",\n",
      "               'privkey': 'cRM2aKr7FrApQLWdxYj2vQKPjTLmtB6rGq4mjHHCPCbTx8hshu7k',\n",
      "               'pubkey': '03605a36d5dc03b94d949106e351b333a42c6debeac90f7e647c358f43f4e42988'},\n",
      "              {'address': 'midygibv6s7KVKSozR41pD1h6wNVtYJa8G',\n",
      "               'path': \"m/44'/1'/0'/0/3\",\n",
      "               'privkey': 'cPsxhs11sudyNJBaeS7KNBFw1hCBZeQzm8qnQZBfqZEUZ7mkhTpn',\n",
      "               'pubkey': '0261fc6392e6a9e49cfa072581f866dee48c94d6982463bd276f2f365ad5c5f31f'},\n",
      "              {'address': 'mzVe6idX1ktuWJzyAwPthTnQToprGFQLjy',\n",
      "               'path': \"m/44'/1'/0'/0/4\",\n",
      "               'privkey': 'cP7yWhjAGckZzAWKWqaRWLmUW3uzdsHQz6TuKRzCQNrWZkgEjMKR',\n",
      "               'pubkey': '02a42886b6358b84aa7c4dcc04d63b0a7e72f9ac479c8d0c5f6cfc035617df64be'},\n",
      "              {'address': 'mhn9v6YP2Skhp8DKWLKA25wtWJPi6AFgAG',\n",
      "               'path': \"m/44'/1'/0'/0/5\",\n",
      "               'privkey': 'cUeBtTKEdU3iQbHyGhsMbZm1yL7rRHrLG221wwJXStxqgRHK7BP3',\n",
      "               'pubkey': '02c0bf337e22608397a73708be1dc6cbe32e73aa9a1c5bfc389c066edfd69ea14a'},\n",
      "              {'address': 'n17xzneyUFBLvAASJFY1ewoMD5WYEN5Eef',\n",
      "               'path': \"m/44'/1'/0'/0/6\",\n",
      "               'privkey': 'cPmzyffbVk4ay26ZuYMXuneCTfghatyMG2kZCWQe3hbQ8YJXDfKZ',\n",
      "               'pubkey': '02c72accd7b7c9501160ad113c767413c72b8c3847d103c7cd47acf7a706666d2b'},\n",
      "              {'address': 'mqH4cgBKsvghFSXLiaq9EvEGwJ6oTGTTtm',\n",
      "               'path': \"m/44'/1'/0'/0/7\",\n",
      "               'privkey': 'cUCg4XG4gymLPPP3XXBkVCabRUe415VthxCvJBReBR83ziKKaUk7',\n",
      "               'pubkey': '02f99d28ab71e44ca3ef94b04f4003d9c19a051836a026ab90b45596c59759e2f2'},\n",
      "              {'address': 'my6RWoiFTJz5aWg2eLmMDB2TMxK1GXiK1c',\n",
      "               'path': \"m/44'/1'/0'/0/8\",\n",
      "               'privkey': 'cS9JejixYvFGTGWytpPDUkMz3DJP6jnC8MHjgFTCiZGKFLAjqgRk',\n",
      "               'pubkey': '02af16e586edc2def643a029606dd4b7e86c647496cd350e29acb7924cd5e2efe2'},\n",
      "              {'address': 'n3GyLtfPZ8FC2dmuWUEJNBoJhJWZ2eWQGM',\n",
      "               'path': \"m/44'/1'/0'/0/9\",\n",
      "               'privkey': 'cTA5TrbNCAiHTT6W2qNF4VDnqJGWmA2Su8viJyfuHgFaxPosSaW1',\n",
      "               'pubkey': '031feaad6645724a86d8d23a3102e3f0dd05e37f5de55ef74b5ad16c133be9868a'}],\n",
      " 'eth': [{'address': '0xDAD65cc65d5FD2904DC87F3ee740af1906DF2655',\n",
      "          'path': \"m/44'/60'/0'/0/0\",\n",
      "          'privkey': '0xd4aca550af0b3a62af3fb1a46b838143f466822c6dd2abf22c08dd0278ff9a1c',\n",
      "          'pubkey': '03f80f3590fc1f6877ac11b826722cee2f4702e0d05ff0ace82d01a35f4c4534cd'},\n",
      "         {'address': '0xbF4aF6AA7FF9a0F7BE10f61dbb9bfcD66EF2968c',\n",
      "          'path': \"m/44'/60'/0'/0/1\",\n",
      "          'privkey': '0x9959b3b022e356e79b2d1dcb2ce5fe3b8c67303d675d7171fc341114198c5f8c',\n",
      "          'pubkey': '024164e4853c27b0c4d39eb39f9d58cce54a5be344c56e236c1fd889b39ae4701c'},\n",
      "         {'address': '0x15C544b036992e020b44FA329c2b788c44c1d034',\n",
      "          'path': \"m/44'/60'/0'/0/2\",\n",
      "          'privkey': '0x253ea55d4735704a097e5650b175801076d580f43b55ab48be1422fb26a51fe9',\n",
      "          'pubkey': '030117ebaff7782bc9359dd57eed57afdcdc05191a1fde03e9c0b5bf417e3fe930'},\n",
      "         {'address': '0xCdaFf036e143bd1A9c79Bd0CA9fAef1E5e10403D',\n",
      "          'path': \"m/44'/60'/0'/0/3\",\n",
      "          'privkey': '0xbed9e899841ac994647f0720525439602e7a007d955beb30794e2bc36d667f80',\n",
      "          'pubkey': '031754e56dd0e5c0aa07cba5b2bf74e7a311265973f84073c163efabc70f8a8780'},\n",
      "         {'address': '0x2fcAd35C70e93bCD32EA4ba11CdAa4E16d10516f',\n",
      "          'path': \"m/44'/60'/0'/0/4\",\n",
      "          'privkey': '0x22df1b26fc2aa9d651aa1188131383296b7881d8af185ead01a33b8122adf4ab',\n",
      "          'pubkey': '0372eb6b0f614bf732caa1bb455517951316072cd803715958f0996fedebc79686'},\n",
      "         {'address': '0x6264a06555a3222c174441576705bF7052d3C3d7',\n",
      "          'path': \"m/44'/60'/0'/0/5\",\n",
      "          'privkey': '0xeef9d9c1e795c7f0ad4fb87bd99dadf10620fffa1fe09a7dc8af669fd7394226',\n",
      "          'pubkey': '03f5a0039e0fa706875c15525aff7777f117eb4d941b70d779f02cfff04a062220'},\n",
      "         {'address': '0x574C75C593ddd786Adf4Aea70452538f38784E9e',\n",
      "          'path': \"m/44'/60'/0'/0/6\",\n",
      "          'privkey': '0xc9148f7fb8366ee46bf43ae83b92eca7f0847de89a57f165314f887a461fbfdf',\n",
      "          'pubkey': '03125a58bf87022b3ce565cf46c96d488eb8e846075b7edac4d3fc2052cc038225'},\n",
      "         {'address': '0xE90Ac3ad28d5124BACfd313A6D80F23bce4000D5',\n",
      "          'path': \"m/44'/60'/0'/0/7\",\n",
      "          'privkey': '0xa51ef87cf3d8357fa1d8aff2eb14f42cafb36c359688b5c6a5fed7b4fe0ce455',\n",
      "          'pubkey': '03ad6197034fa43caba1a1d2c31ef41a6ad37fa375822a4a1db11dc6e59dd44955'},\n",
      "         {'address': '0x3A7a9e5Df3A7C188EA34f34D3c011c22635D727B',\n",
      "          'path': \"m/44'/60'/0'/0/8\",\n",
      "          'privkey': '0x0448878b7a7d691df108b62a5394974504df51fabe4ef1a996a0ad3403cfae5e',\n",
      "          'pubkey': '035f3c0ac59b1020d216e141650b18127ddb29010cec8034da18925096205cbdd4'},\n",
      "         {'address': '0xeE951358e94224C2Fa29556c5797F0e502cbA0a5',\n",
      "          'path': \"m/44'/60'/0'/0/9\",\n",
      "          'privkey': '0x6a49af6b6fb078e75d673c2e082de67e4a6a65264bfc38b653f7d1db114160dc',\n",
      "          'pubkey': '03a2ea301b3ec7ead454072c875560022a3c0e6d681f429a017c240962a2441b43'}]}\n"
     ]
    }
   ],
   "source": [
    "# Create a function called `derive_wallets`\n",
    "def derive_wallets(coin):\n",
    "    command = f\"./derive -g --mnemonic='{mnemonic}' --cols=path,address,privkey,pubkey --format=json --coin='{coin}' --numderive= 2\"\n",
    "    p = subprocess.Popen(command, stdout=subprocess.PIPE, shell=True)\n",
    "    output, err = p.communicate()\n",
    "    p_status = p.wait()\n",
    "    json.loads(output) \n",
    "    return json.loads(output) \n",
    "\n",
    "# print(json.dumps(data, indent=4))\n",
    "\n",
    "# Create a dictionary object called coins to store the output from `derive_wallets`.\n",
    "coins = {\n",
    "    ETH: derive_wallets(ETH),\n",
    "    BTCTEST: derive_wallets(BTCTEST)\n",
    "    \n",
    "}\n",
    "\n",
    "pprint(coins)\n"
   ]
  },
  {
   "cell_type": "code",
   "execution_count": 50,
   "id": "d5b4eeb1-7b7f-4247-a2b5-5baeb79d4415",
   "metadata": {},
   "outputs": [
    {
     "name": "stdout",
     "output_type": "stream",
     "text": [
      "Coin: btc-test\n",
      "Path: m/44'/1'/0'/0/1\n",
      "Address: mrmPdXNK8LtqQZuSSJruerk1JzEBUwbUwy\n",
      "Public Key: 029f1758b099f3dfa336645518c6fd321b19c10dd2ee2133b262c5d7f62ac87f0c\n",
      "Private Key: cUvJHHzNAg5RaRjvDdPoSQC9NowQ7srURAtukD91UKwPWnfrC9pJ\n"
     ]
    }
   ],
   "source": [
    "COIN_TYPE = BTCTEST\n",
    "INDEX = 1\n",
    "path = coins[COIN_TYPE][INDEX][\"path\"]\n",
    "address = coins[COIN_TYPE][INDEX][\"address\"]\n",
    "public_key = coins[COIN_TYPE][INDEX][\"pubkey\"]\n",
    "private_key = coins[COIN_TYPE][INDEX][\"privkey\"]\n",
    "\n",
    "\n",
    "\n",
    "#print(coins)\n",
    "print(f\"Coin: {COIN_TYPE}\")\n",
    "print(f\"Path: {path}\")\n",
    "print(f\"Address: {address}\")\n",
    "print(f\"Public Key: {public_key}\")\n",
    "print(f\"Private Key: {private_key}\")\n",
    "#print(w3.eth.blockNumber)\n",
    "#print(w3.eth.getBalance('0xDAD65cc65d5FD2904DC87F3ee740af1906DF2655'))"
   ]
  },
  {
   "cell_type": "code",
   "execution_count": 91,
   "id": "fcade33f-d791-41b4-b85e-2808069e9e1e",
   "metadata": {},
   "outputs": [],
   "source": [
    "# Import necessary functions from bit and web3\n",
    "# YOUR CODE HERE\n",
    "from bit import PrivateKeyTestnet\n",
    "from bit.network import NetworkAPI\n",
    "from bit import wif_to_key\n",
    "\n",
    "from web3 import Web3\n",
    "from web3.middleware import geth_poa_middleware\n",
    "from eth_account import Account\n",
    "\n",
    "from getpass import getpass\n",
    "\n",
    "w3 = Web3(Web3.HTTPProvider(\"http://127.0.0.1:8545\"))\n",
    "\n",
    "w3.middleware_onion.inject(geth_poa_middleware, layer=0)\n"
   ]
  },
  {
   "cell_type": "code",
   "execution_count": 52,
   "id": "642b93e1-0762-4dd7-bbe1-76dde3effaee",
   "metadata": {},
   "outputs": [],
   "source": [
    "# Create a function called `priv_key_to_account` that converts privkey strings to account objects.\n",
    "def priv_key_to_account(coin, priv_key):\n",
    "    if coin == ETH:\n",
    "        return Account.privateKeyToAccount(priv_key)\n",
    "    elif coin == BTCTEST:\n",
    "        return PrivateKeyTestnet(priv_key)\n"
   ]
  },
  {
   "cell_type": "code",
   "execution_count": 93,
   "id": "b3674414-616f-4f18-976b-65005e666922",
   "metadata": {},
   "outputs": [],
   "source": [
    "# Create a function called `create_tx` that creates an unsigned transaction appropriate metadata.\n",
    "def create_tx(coin, account, to, amount):\n",
    "    if coin == ETH:\n",
    "        gasEstimate = w3.eth.estimateGas(\n",
    "            {\"from\": account.address, \"to\": to, \"value\": amount}\n",
    "        )\n",
    "        return {\n",
    "            \"from\": account.address,\n",
    "            \"to\": to,\n",
    "            \"value\": amount,\n",
    "            \"gasPrice\": w3.eth.gasPrice,\n",
    "            \"gas\": gasEstimate,\n",
    "            \"nonce\": w3.eth.getTransactionCount(account.address),\n",
    "            \n",
    "        }\n",
    "    elif coin == BTCTEST:\n",
    "        return PrivateKeyTestnet.prepare_transaction(account.address, [(to, amount, BTC)])   \n",
    "\n"
   ]
  },
  {
   "cell_type": "code",
   "execution_count": 54,
   "id": "25119b4c-4ef5-4734-aea2-6406729b1fcc",
   "metadata": {},
   "outputs": [],
   "source": [
    "# Create a function called `send_tx` that calls `create_tx`, signs and sends the transaction.\n",
    "def send_tx(coin, account, to, amount):\n",
    "    tx = create_tx(coin, account, to, amount)\n",
    "    signed_tx = account.sign_transaction(tx)\n",
    "    if coin == ETH:\n",
    "        return w3.eth.sendRawTransaction(signed_tx.rawTransaction)\n",
    "\n",
    "    elif coin == BTCTEST:\n",
    "        return NetworkAPI.broadcast_tx_testnet(signed_tx)\n",
    "\n",
    "\n",
    "\n"
   ]
  },
  {
   "cell_type": "code",
   "execution_count": 60,
   "id": "8a6d399c-478f-4f9d-9628-aff82cb8ebd2",
   "metadata": {},
   "outputs": [
    {
     "name": "stdout",
     "output_type": "stream",
     "text": [
      "Coin: btc-test\n",
      "Path: m/44'/1'/0'/0/0\n",
      "Address: mk7wetyE6WoEPZ8aJzGnSvFYFgF1dfDFEb\n",
      "Public Key: 03805ad3da61ec4c99aee11346227ce6c4d598523e80135118edb60fba039b6016\n",
      "Private Key: cNQxfgz4kL3JETUbBesezBGBhAqFWvuoXdVCCDVxrWfp9PQkXgrr\n"
     ]
    }
   ],
   "source": [
    "#BTC ACCOUNT 1\n",
    "COIN_TYPE = BTCTEST\n",
    "INDEX = 0\n",
    "btc_one_path = coins[COIN_TYPE][INDEX][\"path\"]\n",
    "btc_one_address = coins[COIN_TYPE][INDEX][\"address\"]\n",
    "btc_one_public_key = coins[COIN_TYPE][INDEX][\"pubkey\"]\n",
    "btc_one_private_key = coins[COIN_TYPE][INDEX][\"privkey\"]\n",
    "\n",
    "btc_account_one = priv_key_to_account(BTCTEST, coins[BTCTEST][INDEX]['privkey'])\n",
    "\n",
    "#print(coins)\n",
    "print(f\"Coin: {COIN_TYPE}\")\n",
    "print(f\"Path: {btc_one_path}\")\n",
    "print(f\"Address: {btc_one_address }\")\n",
    "print(f\"Public Key: {btc_one_public_key}\")\n",
    "print(f\"Private Key: {btc_one_private_key}\")\n"
   ]
  },
  {
   "cell_type": "code",
   "execution_count": 62,
   "id": "45588925-9d24-4a86-bc9c-fae9a20259ad",
   "metadata": {},
   "outputs": [
    {
     "name": "stdout",
     "output_type": "stream",
     "text": [
      "Coin: btc-test\n",
      "Path: m/44'/1'/0'/0/1\n",
      "Address: mrmPdXNK8LtqQZuSSJruerk1JzEBUwbUwy\n",
      "Public Key: 029f1758b099f3dfa336645518c6fd321b19c10dd2ee2133b262c5d7f62ac87f0c\n",
      "Private Key: cUvJHHzNAg5RaRjvDdPoSQC9NowQ7srURAtukD91UKwPWnfrC9pJ\n"
     ]
    }
   ],
   "source": [
    "#BTC ACCOUNT 2\n",
    "COIN_TYPE = BTCTEST\n",
    "INDEX = 1\n",
    "btc_two_path = coins[COIN_TYPE][INDEX][\"path\"]\n",
    "btc_two_address = coins[COIN_TYPE][INDEX][\"address\"]\n",
    "btc_two_public_key = coins[COIN_TYPE][INDEX][\"pubkey\"]\n",
    "btc_two_private_key = coins[COIN_TYPE][INDEX][\"privkey\"]\n",
    "\n",
    "btc_account_two = priv_key_to_account(BTCTEST, coins[BTCTEST][INDEX]['privkey'])\n",
    "\n",
    "#print(coins)\n",
    "print(f\"Coin: {COIN_TYPE}\")\n",
    "print(f\"Path: {btc_two_path}\")\n",
    "print(f\"Address: {btc_two_address }\")\n",
    "print(f\"Public Key: {btc_two_public_key}\")\n",
    "print(f\"Private Key: {btc_two_private_key}\")"
   ]
  },
  {
   "cell_type": "code",
   "execution_count": 63,
   "id": "f0432e8b-2177-41b0-871f-f731b26aed90",
   "metadata": {},
   "outputs": [],
   "source": [
    "# SEND BTC\n",
    "amount = 0.0001\n",
    "\n",
    "#send_tx(BTCTEST, btc_account_one, btc_two_address, amount)\n"
   ]
  },
  {
   "cell_type": "code",
   "execution_count": 69,
   "id": "b68a14dc-35c5-4b5c-8ea2-58c188db6048",
   "metadata": {},
   "outputs": [
    {
     "name": "stdout",
     "output_type": "stream",
     "text": [
      "BTC Account One Balance: 0.00066948 BTC\n",
      "BTC Account One Balance: 26.44 USD\n",
      "['86e0b9231139f0abee70eb19c8b16f8c92e6cfd86b9a1455b9f0476005728fcf',\n",
      " '4588b033e98ae96a0ce9860a3eaef7eacefeb0a4279d637651b93afd4932cfd0']\n",
      "[Unspent(amount=66948, confirmations=0, script='76a914327e86ea9eeeee8e53e27d43f83bb8c6c20dbd2388ac', txid='86e0b9231139f0abee70eb19c8b16f8c92e6cfd86b9a1455b9f0476005728fcf', txindex=1, segwit=False, sequence=4294967295)]\n"
     ]
    }
   ],
   "source": [
    "# BTC Account 1\n",
    "key = wif_to_key(\"cNQxfgz4kL3JETUbBesezBGBhAqFWvuoXdVCCDVxrWfp9PQkXgrr\")\n",
    "\n",
    "btc_balance = key.get_balance('btc')\n",
    "usd_balance = key.balance_as('usd')\n",
    "btc_transaction = key.get_transactions()\n",
    "btc_unspents = key.get_unspents()\n",
    "\n",
    "print(f\"BTC Account One Balance: {btc_balance} BTC\")\n",
    "print(f\"BTC Account One Balance: {usd_balance} USD\")\n",
    "pprint(btc_transaction)\n",
    "pprint(btc_unspents)\n"
   ]
  },
  {
   "cell_type": "code",
   "execution_count": 76,
   "id": "9858d433-414b-4c8f-90c7-00849025c6f0",
   "metadata": {},
   "outputs": [
    {
     "name": "stdout",
     "output_type": "stream",
     "text": [
      "BTC Account Two Balance: 0.0001 BTC\n",
      "BTC Account Two Balance: 3.97 USD\n"
     ]
    }
   ],
   "source": [
    "# BTC Account 2\n",
    "key2 = wif_to_key(\"cUvJHHzNAg5RaRjvDdPoSQC9NowQ7srURAtukD91UKwPWnfrC9pJ\")\n",
    "\n",
    "\n",
    "btc_balance = key2.get_balance('btc')\n",
    "usd_balance = key2.balance_as('usd')\n",
    "btc_transaction = key2.get_transactions()\n",
    "btc_unspents = key2.get_unspents()\n",
    "\n",
    "print(f\"BTC Account Two Balance: {btc_balance} BTC\")\n",
    "print(f\"BTC Account Two Balance: {usd_balance} USD\")"
   ]
  },
  {
   "cell_type": "code",
   "execution_count": 78,
   "id": "4a3ee131-a02f-41cf-8cb8-bdfa118aa834",
   "metadata": {},
   "outputs": [
    {
     "name": "stdout",
     "output_type": "stream",
     "text": [
      "Coin: eth\n",
      "Path: m/44'/60'/0'/0/0\n",
      "Address: 0xDAD65cc65d5FD2904DC87F3ee740af1906DF2655\n",
      "Public Key: 03f80f3590fc1f6877ac11b826722cee2f4702e0d05ff0ace82d01a35f4c4534cd\n",
      "Private Key: 0xd4aca550af0b3a62af3fb1a46b838143f466822c6dd2abf22c08dd0278ff9a1c\n"
     ]
    }
   ],
   "source": [
    "#ETH ACCOUNT 1 \n",
    "\n",
    "COIN_TYPE = ETH\n",
    "INDEX = 0\n",
    "eth_one_path = coins[COIN_TYPE][INDEX][\"path\"]\n",
    "eth_one_address = coins[COIN_TYPE][INDEX][\"address\"]\n",
    "eth_one_public_key = coins[COIN_TYPE][INDEX][\"pubkey\"]\n",
    "eth_one_private_key = coins[COIN_TYPE][INDEX][\"privkey\"]\n",
    "\n",
    "eth_account_one = Account.from_key(eth_one_private_key)\n",
    "\n",
    "#print(coins)\n",
    "print(f\"Coin: {COIN_TYPE}\")\n",
    "print(f\"Path: {eth_one_path}\")\n",
    "print(f\"Address: {eth_one_address}\")\n",
    "print(f\"Public Key: {eth_one_public_key}\")\n",
    "print(f\"Private Key: {eth_one_private_key}\")\n"
   ]
  },
  {
   "cell_type": "code",
   "execution_count": 89,
   "id": "5c276465-bc03-424f-9e52-c9ff54daf0c3",
   "metadata": {},
   "outputs": [
    {
     "name": "stdout",
     "output_type": "stream",
     "text": [
      "Coin: eth\n",
      "Path: m/44'/60'/0'/0/2\n",
      "Address: 0x15C544b036992e020b44FA329c2b788c44c1d034\n",
      "Public Key: 030117ebaff7782bc9359dd57eed57afdcdc05191a1fde03e9c0b5bf417e3fe930\n",
      "Private Key: 0x253ea55d4735704a097e5650b175801076d580f43b55ab48be1422fb26a51fe9\n"
     ]
    }
   ],
   "source": [
    "#ETH ACCOUNT 2 \n",
    "\n",
    "COIN_TYPE = ETH\n",
    "INDEX = 2\n",
    "eth_two_path = coins[COIN_TYPE][INDEX][\"path\"]\n",
    "eth_two_address = coins[COIN_TYPE][INDEX][\"address\"]\n",
    "eth_two_public_key = coins[COIN_TYPE][INDEX][\"pubkey\"]\n",
    "eth_two_private_key = coins[COIN_TYPE][INDEX][\"privkey\"]\n",
    "\n",
    "eth_account_two = Account.from_key(eth_two_private_key)\n",
    "\n",
    "#print(coins)\n",
    "print(f\"Coin: {COIN_TYPE}\")\n",
    "print(f\"Path: {eth_two_path}\")\n",
    "print(f\"Address: {eth_two_address}\")\n",
    "print(f\"Public Key: {eth_two_public_key}\")\n",
    "print(f\"Private Key: {eth_two_private_key}\")"
   ]
  },
  {
   "cell_type": "code",
   "execution_count": 96,
   "id": "822d938c-e8af-4f7d-a379-9899df0f37f0",
   "metadata": {},
   "outputs": [
    {
     "data": {
      "text/plain": [
       "{'from': '0xDAD65cc65d5FD2904DC87F3ee740af1906DF2655',\n",
       " 'to': '0x15C544b036992e020b44FA329c2b788c44c1d034',\n",
       " 'value': 1000000000000000000,\n",
       " 'gasPrice': 20000000000,\n",
       " 'gas': 21000,\n",
       " 'nonce': 2}"
      ]
     },
     "execution_count": 96,
     "metadata": {},
     "output_type": "execute_result"
    }
   ],
   "source": [
    "#SEND ETH\n",
    "amount = 1000000000000000000\n",
    "\n",
    "create_tx(ETH, eth_account_one, eth_two_address, amount)\n"
   ]
  },
  {
   "cell_type": "code",
   "execution_count": 97,
   "id": "9d856d4b-d129-4993-883d-0013502b273d",
   "metadata": {},
   "outputs": [
    {
     "data": {
      "text/plain": [
       "HexBytes('0x5a7082dfa50d8946c674ce53d7613152399f5cd7001bde105a68eeb8c24f8761')"
      ]
     },
     "execution_count": 97,
     "metadata": {},
     "output_type": "execute_result"
    }
   ],
   "source": [
    "# send_tx(ETH, eth_account_one, eth_two_address, amount)"
   ]
  },
  {
   "cell_type": "code",
   "execution_count": null,
   "id": "cd19fcbd-025f-41da-ad84-defa8995c328",
   "metadata": {},
   "outputs": [],
   "source": []
  }
 ],
 "metadata": {
  "kernelspec": {
   "display_name": "Python 3",
   "language": "python",
   "name": "python3"
  },
  "language_info": {
   "codemirror_mode": {
    "name": "ipython",
    "version": 3
   },
   "file_extension": ".py",
   "mimetype": "text/x-python",
   "name": "python",
   "nbconvert_exporter": "python",
   "pygments_lexer": "ipython3",
   "version": "3.7.10"
  }
 },
 "nbformat": 4,
 "nbformat_minor": 5
}
